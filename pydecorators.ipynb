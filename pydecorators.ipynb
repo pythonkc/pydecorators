{
 "metadata": {
  "celltoolbar": "Raw Cell Format",
  "name": "",
  "signature": "sha256:b7fafba0fc82a59cb7cf338ba66c116c70894fd255717b655cf92f97673c9043"
 },
 "nbformat": 3,
 "nbformat_minor": 0,
 "worksheets": [
  {
   "cells": [
    {
     "cell_type": "markdown",
     "metadata": {
      "slideshow": {
       "slide_type": "-"
      }
     },
     "source": [
      "# Decorating Python: Python's Decorators Explained"
     ]
    },
    {
     "cell_type": "markdown",
     "metadata": {
      "slideshow": {
       "slide_type": "-"
      }
     },
     "source": [
      "## What Python Decorators _Aren't_"
     ]
    },
    {
     "cell_type": "markdown",
     "metadata": {},
     "source": [
      "![Design Patterns](./gof.jpg)"
     ]
    },
    {
     "cell_type": "markdown",
     "metadata": {},
     "source": [
      "### Python's Decorators have nothing to do with the Decorator pattern described in the GoF _Design Patterns_ book.\n",
      "\n",
      "If you don't know what the decorator pattern is, or what design patterns are, don't worry. You don't need to know anything about them for this presentation."
     ]
    },
    {
     "cell_type": "markdown",
     "metadata": {},
     "source": [
      "## What Python Decorators _Are_"
     ]
    },
    {
     "cell_type": "markdown",
     "metadata": {},
     "source": [
      "### Python Decorators are Python functions that modify the behavior of other functions."
     ]
    },
    {
     "cell_type": "code",
     "collapsed": false,
     "input": [
      "def decorator_func(f):\n",
      "    def wrapper():\n",
      "        print(\"Before {function_name}() is called.\".format(function_name=f.__name__))\n",
      "        f()\n",
      "        print(\"After {function_name}() is called.\".format(function_name=f.__name__))\n",
      "    return wrapper\n",
      "\n",
      "def func():\n",
      "    print(\"Behavior from func().\")\n",
      "            \n",
      "func = decorator_func(func)\n",
      "\n",
      "func()\n",
      "\n",
      "type(func)"
     ],
     "language": "python",
     "metadata": {},
     "outputs": [
      {
       "output_type": "stream",
       "stream": "stdout",
       "text": [
        "Before func() is called.\n",
        "Behavior from func().\n",
        "After func() is called.\n"
       ]
      },
      {
       "metadata": {},
       "output_type": "pyout",
       "prompt_number": 2,
       "text": [
        "function"
       ]
      }
     ],
     "prompt_number": 2
    },
    {
     "cell_type": "markdown",
     "metadata": {},
     "source": [
      "#### This is equvalent to the code above."
     ]
    },
    {
     "cell_type": "code",
     "collapsed": false,
     "input": [
      "def decorator_func(f):\n",
      "    def wrapper():\n",
      "        print(\"Before {function_name}() is called.\".format(function_name=f.__name__))\n",
      "        f()\n",
      "        print(\"After {function_name}() is called.\".format(function_name=f.__name__))\n",
      "    return wrapper\n",
      "\n",
      "@decorator_func\n",
      "def func():\n",
      "    print(\"Behavior from func().\")\n",
      "    \n",
      "func()\n",
      "\n",
      "print(type(func))"
     ],
     "language": "python",
     "metadata": {},
     "outputs": [
      {
       "output_type": "stream",
       "stream": "stdout",
       "text": [
        "Before func() is called.\n",
        "Behavior from func().\n",
        "After func() is called.\n",
        "<class 'function'>\n"
       ]
      }
     ],
     "prompt_number": 9
    },
    {
     "cell_type": "markdown",
     "metadata": {},
     "source": [
      "## Wait, _what?_ `function` is a _class?_\n",
      "\n",
      "### Yes, `function` is a class, which means _functions are objects._"
     ]
    },
    {
     "cell_type": "code",
     "collapsed": false,
     "input": [
      "class DecoratorCls(object):\n",
      "    def __init__(self, f):\n",
      "        self.f = f\n",
      "        \n",
      "    def __call__(self):\n",
      "        print(\"Before {function_name}() is called.\".format(function_name=self.f.__name__))\n",
      "        self.f()\n",
      "        print(\"After {function_name}() is called.\".format(function_name=self.f.__name__))\n",
      "        \n",
      "@DecoratorCls\n",
      "def func():\n",
      "    print(\"Behavior from func().\")\n",
      "    \n",
      "func()"
     ],
     "language": "python",
     "metadata": {},
     "outputs": [
      {
       "output_type": "stream",
       "stream": "stdout",
       "text": [
        "Before func() is called.\n",
        "Behavior from func().\n",
        "After func() is called.\n"
       ]
      }
     ],
     "prompt_number": 4
    },
    {
     "cell_type": "markdown",
     "metadata": {},
     "source": [
      "## So, Python Decorators are callable objects that modify the behavior of other callable objects."
     ]
    },
    {
     "cell_type": "code",
     "collapsed": false,
     "input": [],
     "language": "python",
     "metadata": {},
     "outputs": []
    }
   ],
   "metadata": {}
  }
 ]
}